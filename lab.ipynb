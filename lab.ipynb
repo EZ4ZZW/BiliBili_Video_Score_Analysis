{
 "cells": [
  {
   "cell_type": "markdown",
   "metadata": {
    "id": "8H1CGTFa1Lo-"
   },
   "source": [
    "# Bilibili视频网站排行榜评分的线性回归分析\n",
    "\n",
    "Bilibili（哔哩哔哩）是当下最热门的视频播放网站，人们在该网站对视频进行浏览，会根据自己喜好对视频进行点赞、投币、收藏、分享、回复等操作，Bilibili同时还有一个排行榜机制，记录了近期比较热门的视频，并给出了一个评分，排行榜的排序规则即根据该评分，本文将根据这些排行榜视频的各项数据，进行线性回归分析，结合实际情况找出对评分影响最大的数据。"
   ]
  },
  {
   "cell_type": "markdown",
   "metadata": {
    "id": "o_lnHqzn3IxU"
   },
   "source": [
    "Bilibili提供了获取排行榜数据的API，因此我们可以利用该API获取实时的排行榜数据，获取的数据为json格式，经过解析，已将数据保存至Bilibili.csv文件中。"
   ]
  },
  {
   "cell_type": "markdown",
   "metadata": {
    "id": "KWqxbjtv3aK1"
   },
   "source": [
    "本文的思路即为多元线性回归，在统计学中，线性回归（linear regression）是利用称为线性回归方程的最小二乘函数对一个或多个自变量和因变量之间关系进行建模的一种回归分析。这种函数是一个或多个称为回归系数的模型参数的线性组合。只有一个自变量的情况称为简单回归，大于一个自变量情况的叫做多元回归（multivariable linear regression）。\n",
    "\n",
    "完成了对各个自变量权重的计算，找出了对评分影响权重最高的因素，并得到了验证。\n",
    "\n",
    "在哔哩哔哩官网首页处获取排行榜信息的API，得到为\n",
    "\n",
    "https://api.bilibili.com/x/web-interface/ranking/v2?rid=0\n",
    "\n",
    "请求参数为\n",
    "- rid 分类，0代表全部分类\n",
    "\n",
    "返回格式为json格式，json中的data字段为视频信息数组。\n",
    "\n",
    "为了防止请求次数过多增加服务器压力，导致本机IP禁止访问哔哩哔哩，先将请求的response保存到data.txt文件中。\n",
    "\n",
    "使用python的json包进行解析\n",
    "```json\n",
    "{\n",
    "\"aid\": 375696064,\n",
    "\"videos\": 1,\n",
    "\"tid\": 17,\n",
    "\"tname\": \"单机游戏\",\n",
    "\"copyright\": 1,\n",
    "\"pic\": \"http://i0.hdslb.com/bfs/archive/85005893d4c4959ff096d6fb061040e223842bcb.jpg\",\n",
    "\"title\": \"史上最骚魔法师！(第二集)\",\n",
    "\"pubdate\": 1621566911,\n",
    "\"ctime\": 1621566912,\n",
    "\"desc\": \"本期请到了Warma参与配音！鼓掌！！！！！\\n游戏：Darkside Detective\\n第一集：BV1M64y1m7gA\\n各位如果看得开心，希望三连支持一下！\",\n",
    "\"state\": 0,\n",
    "\"duration\": 658,\n",
    "\"mission_id\": 24025,\n",
    "\"rights\": {\n",
    "\"bp\": 0,\n",
    "\"elec\": 0,\n",
    "\"download\": 0,\n",
    "\"movie\": 0,\n",
    "\"pay\": 0,\n",
    "\"hd5\": 0,\n",
    "\"no_reprint\": 1,\n",
    "\"autoplay\": 1,\n",
    "\"ugc_pay\": 0,\n",
    "\"is_cooperation\": 0,\n",
    "\"ugc_pay_preview\": 0,\n",
    "\"no_background\": 0\n",
    "},\n",
    "\"owner\": {\n",
    "\"mid\": 546195,\n",
    "\"name\": \"老番茄\",\n",
    "\"face\": \"http://i0.hdslb.com/bfs/face/bc5ca101313d4db223c395d64779e76eb3482d60.jpg\"\n",
    "},\n",
    "\"stat\": {\n",
    "\"aid\": 375696064,\n",
    "\"view\": 1149043,\n",
    "\"danmaku\": 7300,\n",
    "\"reply\": 3278,\n",
    "\"favorite\": 37490,\n",
    "\"coin\": 98319,\n",
    "\"share\": 1780,\n",
    "\"now_rank\": 0,\n",
    "\"his_rank\": 1,\n",
    "\"like\": 210211,\n",
    "\"dislike\": 0\n",
    "},\n",
    "\"dynamic\": \"用魔法击败魔法\",\n",
    "\"cid\": 341808079,\n",
    "\"dimension\": {\n",
    "\"width\": 1920,\n",
    "\"height\": 1080,\n",
    "\"rotate\": 0\n",
    "},\n",
    "\"short_link\": \"https://b23.tv/BV1jo4y117Vf\",\n",
    "\"short_link_v2\": \"https://b23.tv/BV1jo4y117Vf\",\n",
    "\"bvid\": \"BV1jo4y117Vf\",\n",
    "\"score\": 2446535\n",
    "}\n",
    "```\n",
    "\n",
    "通过解析json格式文件并整理得到bilibili.csv"
   ]
  },
  {
   "cell_type": "code",
   "execution_count": 327,
   "metadata": {
    "id": "0-WWEKsN0TRn"
   },
   "outputs": [],
   "source": [
    "# 包引用\n",
    "import pandas as pd # csv文件读写分析\n",
    "import numpy as np  # 线性代数\n",
    "import matplotlib.pyplot as plt # 制图"
   ]
  },
  {
   "cell_type": "code",
   "execution_count": 328,
   "metadata": {
    "id": "XP6dF1FT2eGk"
   },
   "outputs": [],
   "source": [
    "data = pd.read_csv('./bilibili.csv', index_col='title')\n",
    "\n",
    "# 评分\n",
    "score = data['score'] \n",
    "# 播放量\n",
    "view = data['view'] \n",
    "# 投币\n",
    "coins = data['coins']\n",
    "# 收藏\n",
    "favor = data['favorite']\n",
    "# 评论\n",
    "reply = data['reply']\n",
    "# 点赞\n",
    "like = data['like']\n",
    "# 弹幕数量\n",
    "danmu = data['danmu']\n",
    "# 分享次数\n",
    "share = data['share']"
   ]
  },
  {
   "cell_type": "code",
   "execution_count": 329,
   "metadata": {
    "colab": {
     "base_uri": "https://localhost:8080/",
     "height": 450
    },
    "id": "U3B9JJPm3AW-",
    "outputId": "4be1666c-e32f-4ba4-f573-272cfafec53b"
   },
   "outputs": [
    {
     "data": {
      "text/html": [
       "<div>\n",
       "<style scoped>\n",
       "    .dataframe tbody tr th:only-of-type {\n",
       "        vertical-align: middle;\n",
       "    }\n",
       "\n",
       "    .dataframe tbody tr th {\n",
       "        vertical-align: top;\n",
       "    }\n",
       "\n",
       "    .dataframe thead th {\n",
       "        text-align: right;\n",
       "    }\n",
       "</style>\n",
       "<table border=\"1\" class=\"dataframe\">\n",
       "  <thead>\n",
       "    <tr style=\"text-align: right;\">\n",
       "      <th></th>\n",
       "      <th>author</th>\n",
       "      <th>rank</th>\n",
       "      <th>score</th>\n",
       "      <th>view</th>\n",
       "      <th>coins</th>\n",
       "      <th>favorite</th>\n",
       "      <th>reply</th>\n",
       "      <th>danmu</th>\n",
       "      <th>share</th>\n",
       "      <th>like</th>\n",
       "    </tr>\n",
       "    <tr>\n",
       "      <th>title</th>\n",
       "      <th></th>\n",
       "      <th></th>\n",
       "      <th></th>\n",
       "      <th></th>\n",
       "      <th></th>\n",
       "      <th></th>\n",
       "      <th></th>\n",
       "      <th></th>\n",
       "      <th></th>\n",
       "      <th></th>\n",
       "    </tr>\n",
       "  </thead>\n",
       "  <tbody>\n",
       "    <tr>\n",
       "      <th>店里卖898一份的招牌菜，自己在家做，居然只花了…</th>\n",
       "      <td>绵羊料理</td>\n",
       "      <td>1</td>\n",
       "      <td>3006938</td>\n",
       "      <td>2503262</td>\n",
       "      <td>182774</td>\n",
       "      <td>35061</td>\n",
       "      <td>3078</td>\n",
       "      <td>9534</td>\n",
       "      <td>6084</td>\n",
       "      <td>291180</td>\n",
       "    </tr>\n",
       "    <tr>\n",
       "      <th>《原神》角色演示-「优菈：闪灼的烛光」</th>\n",
       "      <td>原神</td>\n",
       "      <td>2</td>\n",
       "      <td>2627422</td>\n",
       "      <td>2473591</td>\n",
       "      <td>82268</td>\n",
       "      <td>38570</td>\n",
       "      <td>33272</td>\n",
       "      <td>28401</td>\n",
       "      <td>53464</td>\n",
       "      <td>154201</td>\n",
       "    </tr>\n",
       "    <tr>\n",
       "      <th>【郎朗】海 上 东 北 钢 琴 师</th>\n",
       "      <td>_青红造了个白_</td>\n",
       "      <td>2</td>\n",
       "      <td>2375678</td>\n",
       "      <td>1744482</td>\n",
       "      <td>238742</td>\n",
       "      <td>104817</td>\n",
       "      <td>5823</td>\n",
       "      <td>4985</td>\n",
       "      <td>39047</td>\n",
       "      <td>301418</td>\n",
       "    </tr>\n",
       "    <tr>\n",
       "      <th>禁 忌 女 孩 我 不 更 了！</th>\n",
       "      <td>我是影Sir</td>\n",
       "      <td>4</td>\n",
       "      <td>2231527</td>\n",
       "      <td>1949335</td>\n",
       "      <td>74270</td>\n",
       "      <td>18197</td>\n",
       "      <td>5298</td>\n",
       "      <td>3297</td>\n",
       "      <td>6969</td>\n",
       "      <td>186835</td>\n",
       "    </tr>\n",
       "    <tr>\n",
       "      <th>超级变变变</th>\n",
       "      <td>设计师深海</td>\n",
       "      <td>5</td>\n",
       "      <td>2131843</td>\n",
       "      <td>1297760</td>\n",
       "      <td>48405</td>\n",
       "      <td>30526</td>\n",
       "      <td>1103</td>\n",
       "      <td>706</td>\n",
       "      <td>1101</td>\n",
       "      <td>175602</td>\n",
       "    </tr>\n",
       "    <tr>\n",
       "      <th>...</th>\n",
       "      <td>...</td>\n",
       "      <td>...</td>\n",
       "      <td>...</td>\n",
       "      <td>...</td>\n",
       "      <td>...</td>\n",
       "      <td>...</td>\n",
       "      <td>...</td>\n",
       "      <td>...</td>\n",
       "      <td>...</td>\n",
       "      <td>...</td>\n",
       "    </tr>\n",
       "    <tr>\n",
       "      <th>这就是文理科的神仙对线吗【建议收藏】</th>\n",
       "      <td>进击的金厂长</td>\n",
       "      <td>6</td>\n",
       "      <td>724873</td>\n",
       "      <td>555489</td>\n",
       "      <td>63216</td>\n",
       "      <td>34641</td>\n",
       "      <td>3790</td>\n",
       "      <td>1108</td>\n",
       "      <td>7339</td>\n",
       "      <td>148399</td>\n",
       "    </tr>\n",
       "    <tr>\n",
       "      <th>自从这群歪果仁中式骚操作学废了以后。。。</th>\n",
       "      <td>歪果仁研究协会</td>\n",
       "      <td>97</td>\n",
       "      <td>722521</td>\n",
       "      <td>494345</td>\n",
       "      <td>7690</td>\n",
       "      <td>1966</td>\n",
       "      <td>1709</td>\n",
       "      <td>2563</td>\n",
       "      <td>290</td>\n",
       "      <td>45939</td>\n",
       "    </tr>\n",
       "    <tr>\n",
       "      <th>10年经典米其林三星 薯条 复刻出来会是什么味道</th>\n",
       "      <td>澳洲阿彭</td>\n",
       "      <td>17</td>\n",
       "      <td>719924</td>\n",
       "      <td>502126</td>\n",
       "      <td>43318</td>\n",
       "      <td>25766</td>\n",
       "      <td>808</td>\n",
       "      <td>982</td>\n",
       "      <td>3127</td>\n",
       "      <td>85044</td>\n",
       "    </tr>\n",
       "    <tr>\n",
       "      <th>高 ping 玩 家 现 状</th>\n",
       "      <td>锤子game</td>\n",
       "      <td>99</td>\n",
       "      <td>718599</td>\n",
       "      <td>657349</td>\n",
       "      <td>2929</td>\n",
       "      <td>3148</td>\n",
       "      <td>596</td>\n",
       "      <td>382</td>\n",
       "      <td>1344</td>\n",
       "      <td>33765</td>\n",
       "    </tr>\n",
       "    <tr>\n",
       "      <th>马上生二胎？up主还能做多久？我不想面对这些问题！！</th>\n",
       "      <td>啊吗粽</td>\n",
       "      <td>12</td>\n",
       "      <td>708584</td>\n",
       "      <td>395299</td>\n",
       "      <td>61909</td>\n",
       "      <td>16301</td>\n",
       "      <td>2065</td>\n",
       "      <td>2439</td>\n",
       "      <td>4227</td>\n",
       "      <td>124512</td>\n",
       "    </tr>\n",
       "  </tbody>\n",
       "</table>\n",
       "<p>100 rows × 10 columns</p>\n",
       "</div>"
      ],
      "text/plain": [
       "                              author  rank    score     view   coins  \\\n",
       "title                                                                  \n",
       "店里卖898一份的招牌菜，自己在家做，居然只花了…       绵羊料理     1  3006938  2503262  182774   \n",
       "《原神》角色演示-「优菈：闪灼的烛光」               原神     2  2627422  2473591   82268   \n",
       "【郎朗】海 上 东 北 钢 琴 师           _青红造了个白_     2  2375678  1744482  238742   \n",
       "禁 忌 女 孩 我 不 更 了！              我是影Sir     4  2231527  1949335   74270   \n",
       "超级变变变                          设计师深海     5  2131843  1297760   48405   \n",
       "...                              ...   ...      ...      ...     ...   \n",
       "这就是文理科的神仙对线吗【建议收藏】            进击的金厂长     6   724873   555489   63216   \n",
       "自从这群歪果仁中式骚操作学废了以后。。。         歪果仁研究协会    97   722521   494345    7690   \n",
       "10年经典米其林三星 薯条 复刻出来会是什么味道        澳洲阿彭    17   719924   502126   43318   \n",
       "高 ping 玩 家 现 状                锤子game    99   718599   657349    2929   \n",
       "马上生二胎？up主还能做多久？我不想面对这些问题！！       啊吗粽    12   708584   395299   61909   \n",
       "\n",
       "                            favorite  reply  danmu  share    like  \n",
       "title                                                              \n",
       "店里卖898一份的招牌菜，自己在家做，居然只花了…      35061   3078   9534   6084  291180  \n",
       "《原神》角色演示-「优菈：闪灼的烛光」            38570  33272  28401  53464  154201  \n",
       "【郎朗】海 上 东 北 钢 琴 师             104817   5823   4985  39047  301418  \n",
       "禁 忌 女 孩 我 不 更 了！               18197   5298   3297   6969  186835  \n",
       "超级变变变                          30526   1103    706   1101  175602  \n",
       "...                              ...    ...    ...    ...     ...  \n",
       "这就是文理科的神仙对线吗【建议收藏】             34641   3790   1108   7339  148399  \n",
       "自从这群歪果仁中式骚操作学废了以后。。。            1966   1709   2563    290   45939  \n",
       "10年经典米其林三星 薯条 复刻出来会是什么味道       25766    808    982   3127   85044  \n",
       "高 ping 玩 家 现 状                  3148    596    382   1344   33765  \n",
       "马上生二胎？up主还能做多久？我不想面对这些问题！！     16301   2065   2439   4227  124512  \n",
       "\n",
       "[100 rows x 10 columns]"
      ]
     },
     "execution_count": 329,
     "metadata": {},
     "output_type": "execute_result"
    }
   ],
   "source": [
    "data"
   ]
  },
  {
   "cell_type": "markdown",
   "metadata": {
    "id": "dIMw7FdF4Qyq"
   },
   "source": [
    "部分数据展示"
   ]
  },
  {
   "cell_type": "code",
   "execution_count": 330,
   "metadata": {
    "colab": {
     "base_uri": "https://localhost:8080/",
     "height": 0
    },
    "id": "DOqr1mg_2sy9",
    "outputId": "d0f8ca82-f792-4b5c-e0a3-ebf0c5adcde6"
   },
   "outputs": [
    {
     "data": {
      "text/plain": [
       "title\n",
       "店里卖898一份的招牌菜，自己在家做，居然只花了…     3006938\n",
       "《原神》角色演示-「优菈：闪灼的烛光」           2627422\n",
       "【郎朗】海 上 东 北 钢 琴 师             2375678\n",
       "禁 忌 女 孩 我 不 更 了！              2231527\n",
       "超级变变变                         2131843\n",
       "                               ...   \n",
       "这就是文理科的神仙对线吗【建议收藏】             724873\n",
       "自从这群歪果仁中式骚操作学废了以后。。。           722521\n",
       "10年经典米其林三星 薯条 复刻出来会是什么味道       719924\n",
       "高 ping 玩 家 现 状                 718599\n",
       "马上生二胎？up主还能做多久？我不想面对这些问题！！     708584\n",
       "Name: score, Length: 100, dtype: int64"
      ]
     },
     "execution_count": 330,
     "metadata": {},
     "output_type": "execute_result"
    }
   ],
   "source": [
    "score"
   ]
  },
  {
   "cell_type": "code",
   "execution_count": 331,
   "metadata": {
    "colab": {
     "base_uri": "https://localhost:8080/",
     "height": 0
    },
    "id": "JvuOU5MD2wJl",
    "outputId": "38a2bcc8-7351-47ad-e520-f9d2cef99a22"
   },
   "outputs": [
    {
     "data": {
      "text/plain": [
       "title\n",
       "店里卖898一份的招牌菜，自己在家做，居然只花了…     182774\n",
       "《原神》角色演示-「优菈：闪灼的烛光」            82268\n",
       "【郎朗】海 上 东 北 钢 琴 师             238742\n",
       "禁 忌 女 孩 我 不 更 了！               74270\n",
       "超级变变变                          48405\n",
       "                               ...  \n",
       "这就是文理科的神仙对线吗【建议收藏】             63216\n",
       "自从这群歪果仁中式骚操作学废了以后。。。            7690\n",
       "10年经典米其林三星 薯条 复刻出来会是什么味道       43318\n",
       "高 ping 玩 家 现 状                  2929\n",
       "马上生二胎？up主还能做多久？我不想面对这些问题！！     61909\n",
       "Name: coins, Length: 100, dtype: int64"
      ]
     },
     "execution_count": 331,
     "metadata": {},
     "output_type": "execute_result"
    }
   ],
   "source": [
    "coins"
   ]
  },
  {
   "cell_type": "code",
   "execution_count": 332,
   "metadata": {
    "colab": {
     "base_uri": "https://localhost:8080/",
     "height": 0
    },
    "id": "anr_qZhs4Us3",
    "outputId": "fa6ed6b2-dd39-43cc-a704-2e573a42a8ee"
   },
   "outputs": [
    {
     "data": {
      "text/plain": [
       "title\n",
       "店里卖898一份的招牌菜，自己在家做，居然只花了…      35061\n",
       "《原神》角色演示-「优菈：闪灼的烛光」            38570\n",
       "【郎朗】海 上 东 北 钢 琴 师             104817\n",
       "禁 忌 女 孩 我 不 更 了！               18197\n",
       "超级变变变                          30526\n",
       "                               ...  \n",
       "这就是文理科的神仙对线吗【建议收藏】             34641\n",
       "自从这群歪果仁中式骚操作学废了以后。。。            1966\n",
       "10年经典米其林三星 薯条 复刻出来会是什么味道       25766\n",
       "高 ping 玩 家 现 状                  3148\n",
       "马上生二胎？up主还能做多久？我不想面对这些问题！！     16301\n",
       "Name: favorite, Length: 100, dtype: int64"
      ]
     },
     "execution_count": 332,
     "metadata": {},
     "output_type": "execute_result"
    }
   ],
   "source": [
    "favor"
   ]
  },
  {
   "cell_type": "code",
   "execution_count": 333,
   "metadata": {
    "id": "2yjzHzqH4t5q"
   },
   "outputs": [],
   "source": [
    "x = [i for i in range(len(score))]\n",
    "# 获取自变量矩阵\n",
    "X = data.iloc[:,3:10].values\n",
    "# 获取因变量矩阵\n",
    "Y = data.iloc[:,2].values.reshape(-1,1)\n",
    "# 生成设计矩阵\n",
    "om = np.ones(X.shape[0]).reshape(-1,1)\n",
    "X = np.hstack((X, om))"
   ]
  },
  {
   "cell_type": "code",
   "execution_count": 334,
   "metadata": {
    "colab": {
     "base_uri": "https://localhost:8080/",
     "height": 293
    },
    "id": "jCEPuU-kA6z4",
    "outputId": "788e905d-c33d-4b93-adfe-3e7cb2518db2"
   },
   "outputs": [
    {
     "data": {
      "text/plain": [
       "[<matplotlib.lines.Line2D at 0x7fcd01d2efa0>]"
      ]
     },
     "execution_count": 334,
     "metadata": {},
     "output_type": "execute_result"
    },
    {
     "data": {
      "image/png": "[encoded data removed]",
      "text/plain": [
       "<Figure size 432x288 with 1 Axes>"
      ]
     },
     "metadata": {
      "needs_background": "light"
     },
     "output_type": "display_data"
    }
   ],
   "source": [
    "# 绘制图像，按照排名递减绘制，即分数从高到低\n",
    "plt.xlabel('rank')\n",
    "plt.ylabel('score')\n",
    "plt.plot(x, score, 'o')"
   ]
  },
  {
   "cell_type": "markdown",
   "metadata": {},
   "source": [
    "排名-总分图，总分与rank正相关。"
   ]
  },
  {
   "cell_type": "code",
   "execution_count": 335,
   "metadata": {},
   "outputs": [
    {
     "data": {
      "text/plain": [
       "{'whiskers': [<matplotlib.lines.Line2D at 0x7fcd01d9ac70>,\n",
       "  <matplotlib.lines.Line2D at 0x7fcd01d9afd0>],\n",
       " 'caps': [<matplotlib.lines.Line2D at 0x7fcd01e28340>,\n",
       "  <matplotlib.lines.Line2D at 0x7fcd01e28670>],\n",
       " 'boxes': [<matplotlib.lines.Line2D at 0x7fcd01d9a940>],\n",
       " 'medians': [<matplotlib.lines.Line2D at 0x7fcd01e289a0>],\n",
       " 'fliers': [<matplotlib.lines.Line2D at 0x7fcd01e35040>],\n",
       " 'means': [<matplotlib.lines.Line2D at 0x7fcd01e28cd0>]}"
      ]
     },
     "execution_count": 335,
     "metadata": {},
     "output_type": "execute_result"
    },
    {
     "data": {
      "image/png": "[encoded data removed]",
      "text/plain": [
       "<Figure size 432x288 with 1 Axes>"
      ]
     },
     "metadata": {
      "needs_background": "light"
     },
     "output_type": "display_data"
    }
   ],
   "source": [
    "labels = ['score']\n",
    "plt.ylabel('score')\n",
    "plt.boxplot(score, labels = labels, showmeans = True)"
   ]
  },
  {
   "cell_type": "markdown",
   "metadata": {},
   "source": [
    "由箱线图可以得到score数据中，均值大致为120000\n",
    "\n",
    "中位数大致为900000\n",
    "\n",
    "使用numpy自带库函数检验"
   ]
  },
  {
   "cell_type": "code",
   "execution_count": 336,
   "metadata": {},
   "outputs": [
    {
     "data": {
      "text/plain": [
       "1122688.4"
      ]
     },
     "execution_count": 336,
     "metadata": {},
     "output_type": "execute_result"
    }
   ],
   "source": [
    "np.mean(score)"
   ]
  },
  {
   "cell_type": "code",
   "execution_count": 337,
   "metadata": {},
   "outputs": [
    {
     "data": {
      "text/plain": [
       "941970.0"
      ]
     },
     "execution_count": 337,
     "metadata": {},
     "output_type": "execute_result"
    }
   ],
   "source": [
    "np.median(score)"
   ]
  },
  {
   "cell_type": "code",
   "execution_count": 338,
   "metadata": {},
   "outputs": [
    {
     "data": {
      "text/plain": [
       "212928036197.18"
      ]
     },
     "execution_count": 338,
     "metadata": {},
     "output_type": "execute_result"
    }
   ],
   "source": [
    "np.var(score)"
   ]
  },
  {
   "cell_type": "code",
   "execution_count": 339,
   "metadata": {},
   "outputs": [
    {
     "data": {
      "text/plain": [
       "461441.2597473052"
      ]
     },
     "execution_count": 339,
     "metadata": {},
     "output_type": "execute_result"
    }
   ],
   "source": [
    "np.std(score)"
   ]
  },
  {
   "cell_type": "code",
   "execution_count": 340,
   "metadata": {},
   "outputs": [
    {
     "data": {
      "text/plain": [
       "[<matplotlib.lines.Line2D at 0x7fcd245e8fd0>]"
      ]
     },
     "execution_count": 340,
     "metadata": {},
     "output_type": "execute_result"
    },
    {
     "data": {
      "image/png": "[encoded data removed]",
      "text/plain": [
       "<Figure size 432x288 with 1 Axes>"
      ]
     },
     "metadata": {
      "needs_background": "light"
     },
     "output_type": "display_data"
    }
   ],
   "source": [
    "plt.xlabel('rank')\n",
    "plt.ylabel('favorite')\n",
    "plt.plot(x, favor, 'o')"
   ]
  },
  {
   "cell_type": "markdown",
   "metadata": {},
   "source": [
    "根据排名-收藏图，可以发现，收藏对于排名即总分，有一定的正相关。"
   ]
  },
  {
   "cell_type": "code",
   "execution_count": 341,
   "metadata": {},
   "outputs": [
    {
     "data": {
      "text/plain": [
       "{'whiskers': [<matplotlib.lines.Line2D at 0x7fccf0f84bb0>,\n",
       "  <matplotlib.lines.Line2D at 0x7fccf0f84f10>],\n",
       " 'caps': [<matplotlib.lines.Line2D at 0x7fccf0f922b0>,\n",
       "  <matplotlib.lines.Line2D at 0x7fccf0f92610>],\n",
       " 'boxes': [<matplotlib.lines.Line2D at 0x7fccf0f84850>],\n",
       " 'medians': [<matplotlib.lines.Line2D at 0x7fccf0f92970>],\n",
       " 'fliers': [<matplotlib.lines.Line2D at 0x7fcd1171e070>],\n",
       " 'means': [<matplotlib.lines.Line2D at 0x7fccf0f92cd0>]}"
      ]
     },
     "execution_count": 341,
     "metadata": {},
     "output_type": "execute_result"
    },
    {
     "data": {
      "image/png": "[encoded data removed]",
      "text/plain": [
       "<Figure size 432x288 with 1 Axes>"
      ]
     },
     "metadata": {
      "needs_background": "light"
     },
     "output_type": "display_data"
    }
   ],
   "source": [
    "plt.xlabel('favorite')\n",
    "labels = ['favorite']\n",
    "plt.ylabel('favorite')\n",
    "plt.boxplot(favor, labels = labels, showmeans = True)"
   ]
  },
  {
   "cell_type": "markdown",
   "metadata": {},
   "source": [
    "由箱线图可知，收藏数据集中在[6000, 20000]内，中位数大致为10000，均值为16000"
   ]
  },
  {
   "cell_type": "code",
   "execution_count": 342,
   "metadata": {},
   "outputs": [
    {
     "data": {
      "text/plain": [
       "16578.47"
      ]
     },
     "execution_count": 342,
     "metadata": {},
     "output_type": "execute_result"
    }
   ],
   "source": [
    "np.mean(favor)"
   ]
  },
  {
   "cell_type": "code",
   "execution_count": 343,
   "metadata": {},
   "outputs": [
    {
     "data": {
      "text/plain": [
       "10722.0"
      ]
     },
     "execution_count": 343,
     "metadata": {},
     "output_type": "execute_result"
    }
   ],
   "source": [
    "np.median(favor)"
   ]
  },
  {
   "cell_type": "code",
   "execution_count": 344,
   "metadata": {},
   "outputs": [
    {
     "data": {
      "text/plain": [
       "302357416.2890999"
      ]
     },
     "execution_count": 344,
     "metadata": {},
     "output_type": "execute_result"
    }
   ],
   "source": [
    "np.var(favor)"
   ]
  },
  {
   "cell_type": "code",
   "execution_count": 345,
   "metadata": {},
   "outputs": [
    {
     "data": {
      "text/plain": [
       "17388.427654307903"
      ]
     },
     "execution_count": 345,
     "metadata": {},
     "output_type": "execute_result"
    }
   ],
   "source": [
    "np.std(favor)"
   ]
  },
  {
   "cell_type": "code",
   "execution_count": 346,
   "metadata": {},
   "outputs": [
    {
     "data": {
      "text/plain": [
       "[<matplotlib.lines.Line2D at 0x7fcd1175cfa0>]"
      ]
     },
     "execution_count": 346,
     "metadata": {},
     "output_type": "execute_result"
    },
    {
     "data": {
      "image/png": "[encoded data removed]",
      "text/plain": [
       "<Figure size 432x288 with 1 Axes>"
      ]
     },
     "metadata": {
      "needs_background": "light"
     },
     "output_type": "display_data"
    }
   ],
   "source": [
    "plt.xlabel('rank')\n",
    "plt.ylabel('view')\n",
    "plt.plot(x, view, 'o')"
   ]
  },
  {
   "cell_type": "markdown",
   "metadata": {},
   "source": [
    "通过排名-播放量图，可以得出播放量与排名在一定程度上为正相关。"
   ]
  },
  {
   "cell_type": "code",
   "execution_count": 347,
   "metadata": {},
   "outputs": [
    {
     "data": {
      "text/plain": [
       "{'whiskers': [<matplotlib.lines.Line2D at 0x7fcd01dc82b0>,\n",
       "  <matplotlib.lines.Line2D at 0x7fcd01dc8610>],\n",
       " 'caps': [<matplotlib.lines.Line2D at 0x7fcd01dc8970>,\n",
       "  <matplotlib.lines.Line2D at 0x7fcd01dc8cd0>],\n",
       " 'boxes': [<matplotlib.lines.Line2D at 0x7fcd01db6f10>],\n",
       " 'medians': [<matplotlib.lines.Line2D at 0x7fcd01dd4070>],\n",
       " 'fliers': [<matplotlib.lines.Line2D at 0x7fcd01dd4730>],\n",
       " 'means': [<matplotlib.lines.Line2D at 0x7fcd01dd43d0>]}"
      ]
     },
     "execution_count": 347,
     "metadata": {},
     "output_type": "execute_result"
    },
    {
     "data": {
      "image/png": "[encoded data removed]",
      "text/plain": [
       "<Figure size 432x288 with 1 Axes>"
      ]
     },
     "metadata": {
      "needs_background": "light"
     },
     "output_type": "display_data"
    }
   ],
   "source": [
    "plt.xlabel('view')\n",
    "labels = ['view']\n",
    "plt.ylabel('view')\n",
    "plt.boxplot(view, labels = labels, showmeans = True)"
   ]
  },
  {
   "cell_type": "markdown",
   "metadata": {},
   "source": [
    "由箱线图可知，播放量数据集中在[600000, 800000]内，中位数大致为600000，均值大致为800000"
   ]
  },
  {
   "cell_type": "code",
   "execution_count": 348,
   "metadata": {},
   "outputs": [
    {
     "data": {
      "text/plain": [
       "835744.33"
      ]
     },
     "execution_count": 348,
     "metadata": {},
     "output_type": "execute_result"
    }
   ],
   "source": [
    "np.mean(view)"
   ]
  },
  {
   "cell_type": "code",
   "execution_count": 349,
   "metadata": {},
   "outputs": [
    {
     "data": {
      "text/plain": [
       "681824.5"
      ]
     },
     "execution_count": 349,
     "metadata": {},
     "output_type": "execute_result"
    }
   ],
   "source": [
    "np.median(view)"
   ]
  },
  {
   "cell_type": "code",
   "execution_count": 350,
   "metadata": {},
   "outputs": [
    {
     "data": {
      "text/plain": [
       "213601199487.2411"
      ]
     },
     "execution_count": 350,
     "metadata": {},
     "output_type": "execute_result"
    }
   ],
   "source": [
    "np.var(view)"
   ]
  },
  {
   "cell_type": "code",
   "execution_count": 351,
   "metadata": {},
   "outputs": [
    {
     "data": {
      "text/plain": [
       "462170.09800206794"
      ]
     },
     "execution_count": 351,
     "metadata": {},
     "output_type": "execute_result"
    }
   ],
   "source": [
    "np.std(view)"
   ]
  },
  {
   "cell_type": "code",
   "execution_count": 352,
   "metadata": {},
   "outputs": [
    {
     "data": {
      "text/plain": [
       "[<matplotlib.lines.Line2D at 0x7fcd01deb670>]"
      ]
     },
     "execution_count": 352,
     "metadata": {},
     "output_type": "execute_result"
    },
    {
     "data": {
      "image/png": "[encoded data removed]",
      "text/plain": [
       "<Figure size 432x288 with 1 Axes>"
      ]
     },
     "metadata": {
      "needs_background": "light"
     },
     "output_type": "display_data"
    }
   ],
   "source": [
    "plt.xlabel('rank')\n",
    "plt.ylabel('coins')\n",
    "plt.plot(x, coins, 'o')"
   ]
  },
  {
   "cell_type": "markdown",
   "metadata": {},
   "source": [
    "通过排名-投币数图，可以得出排名与投币数在一定程度上为正相关。"
   ]
  },
  {
   "cell_type": "code",
   "execution_count": 353,
   "metadata": {},
   "outputs": [
    {
     "data": {
      "text/plain": [
       "{'whiskers': [<matplotlib.lines.Line2D at 0x7fccf11f6bb0>,\n",
       "  <matplotlib.lines.Line2D at 0x7fccf11f6f10>],\n",
       " 'caps': [<matplotlib.lines.Line2D at 0x7fccf12042b0>,\n",
       "  <matplotlib.lines.Line2D at 0x7fccf1204610>],\n",
       " 'boxes': [<matplotlib.lines.Line2D at 0x7fccf11f6850>],\n",
       " 'medians': [<matplotlib.lines.Line2D at 0x7fccf1204970>],\n",
       " 'fliers': [<matplotlib.lines.Line2D at 0x7fccf1204fd0>],\n",
       " 'means': [<matplotlib.lines.Line2D at 0x7fccf1204ca0>]}"
      ]
     },
     "execution_count": 353,
     "metadata": {},
     "output_type": "execute_result"
    },
    {
     "data": {
      "image/png": "[encoded data removed]",
      "text/plain": [
       "<Figure size 432x288 with 1 Axes>"
      ]
     },
     "metadata": {
      "needs_background": "light"
     },
     "output_type": "display_data"
    }
   ],
   "source": [
    "plt.xlabel('coins')\n",
    "labels = ['coins']\n",
    "plt.ylabel('coins')\n",
    "plt.boxplot(coins, labels = labels, showmeans = True)"
   ]
  },
  {
   "cell_type": "markdown",
   "metadata": {},
   "source": [
    "由箱线图可知，投币数据集中在[15000, 30000]内，中位数大致为17000，均值大致为30000"
   ]
  },
  {
   "cell_type": "code",
   "execution_count": 354,
   "metadata": {},
   "outputs": [
    {
     "data": {
      "text/plain": [
       "31900.79"
      ]
     },
     "execution_count": 354,
     "metadata": {},
     "output_type": "execute_result"
    }
   ],
   "source": [
    "np.mean(coins)"
   ]
  },
  {
   "cell_type": "code",
   "execution_count": 355,
   "metadata": {},
   "outputs": [
    {
     "data": {
      "text/plain": [
       "17495.5"
      ]
     },
     "execution_count": 355,
     "metadata": {},
     "output_type": "execute_result"
    }
   ],
   "source": [
    "np.median(coins)"
   ]
  },
  {
   "cell_type": "code",
   "execution_count": 356,
   "metadata": {},
   "outputs": [
    {
     "data": {
      "text/plain": [
       "1563604214.445899"
      ]
     },
     "execution_count": 356,
     "metadata": {},
     "output_type": "execute_result"
    }
   ],
   "source": [
    "# 方差\n",
    "np.var(coins)"
   ]
  },
  {
   "cell_type": "code",
   "execution_count": 357,
   "metadata": {},
   "outputs": [
    {
     "data": {
      "text/plain": [
       "39542.43561600498"
      ]
     },
     "execution_count": 357,
     "metadata": {},
     "output_type": "execute_result"
    }
   ],
   "source": [
    "# 标准差\n",
    "np.std(coins)"
   ]
  },
  {
   "cell_type": "code",
   "execution_count": 358,
   "metadata": {},
   "outputs": [
    {
     "data": {
      "text/plain": [
       "[<matplotlib.lines.Line2D at 0x7fccf121d2b0>]"
      ]
     },
     "execution_count": 358,
     "metadata": {},
     "output_type": "execute_result"
    },
    {
     "data": {
      "image/png": "[encoded data removed]",
      "text/plain": [
       "<Figure size 432x288 with 1 Axes>"
      ]
     },
     "metadata": {
      "needs_background": "light"
     },
     "output_type": "display_data"
    }
   ],
   "source": [
    "plt.xlabel('rank')\n",
    "plt.ylabel('reply')\n",
    "plt.plot(x, reply, 'o')"
   ]
  },
  {
   "cell_type": "markdown",
   "metadata": {},
   "source": [
    "通过排名-评论数图，可以得出排名与评论数相关性较低。"
   ]
  },
  {
   "cell_type": "code",
   "execution_count": 359,
   "metadata": {},
   "outputs": [
    {
     "data": {
      "text/plain": [
       "{'whiskers': [<matplotlib.lines.Line2D at 0x7fcd246a7310>,\n",
       "  <matplotlib.lines.Line2D at 0x7fcd246a7670>],\n",
       " 'caps': [<matplotlib.lines.Line2D at 0x7fcd246a79d0>,\n",
       "  <matplotlib.lines.Line2D at 0x7fcd246a7d30>],\n",
       " 'boxes': [<matplotlib.lines.Line2D at 0x7fcd24698f70>],\n",
       " 'medians': [<matplotlib.lines.Line2D at 0x7fcd246b40d0>],\n",
       " 'fliers': [<matplotlib.lines.Line2D at 0x7fcd246b4790>],\n",
       " 'means': [<matplotlib.lines.Line2D at 0x7fcd246b4430>]}"
      ]
     },
     "execution_count": 359,
     "metadata": {},
     "output_type": "execute_result"
    },
    {
     "data": {
      "image/png": "[encoded data removed]",
      "text/plain": [
       "<Figure size 432x288 with 1 Axes>"
      ]
     },
     "metadata": {
      "needs_background": "light"
     },
     "output_type": "display_data"
    }
   ],
   "source": [
    "plt.xlabel('reply')\n",
    "labels = ['reply']\n",
    "plt.ylabel('reply')\n",
    "plt.boxplot(reply, labels = labels, showmeans = True)"
   ]
  },
  {
   "cell_type": "markdown",
   "metadata": {},
   "source": [
    "由箱线图可知，评论数据集中在[2500, 4000]内，中位数大致为2500，均值大致为3000"
   ]
  },
  {
   "cell_type": "code",
   "execution_count": 360,
   "metadata": {},
   "outputs": [
    {
     "data": {
      "text/plain": [
       "3424.87"
      ]
     },
     "execution_count": 360,
     "metadata": {},
     "output_type": "execute_result"
    }
   ],
   "source": [
    "np.mean(reply)"
   ]
  },
  {
   "cell_type": "code",
   "execution_count": 361,
   "metadata": {},
   "outputs": [
    {
     "data": {
      "text/plain": [
       "2223.5"
      ]
     },
     "execution_count": 361,
     "metadata": {},
     "output_type": "execute_result"
    }
   ],
   "source": [
    "np.median(reply)"
   ]
  },
  {
   "cell_type": "code",
   "execution_count": 362,
   "metadata": {},
   "outputs": [
    {
     "data": {
      "text/plain": [
       "18640762.053099994"
      ]
     },
     "execution_count": 362,
     "metadata": {},
     "output_type": "execute_result"
    }
   ],
   "source": [
    "# 方差\n",
    "np.var(reply)"
   ]
  },
  {
   "cell_type": "code",
   "execution_count": 363,
   "metadata": {},
   "outputs": [
    {
     "data": {
      "text/plain": [
       "4317.494881653016"
      ]
     },
     "execution_count": 363,
     "metadata": {},
     "output_type": "execute_result"
    }
   ],
   "source": [
    "# 标准差\n",
    "np.std(reply)"
   ]
  },
  {
   "cell_type": "code",
   "execution_count": 364,
   "metadata": {},
   "outputs": [
    {
     "data": {
      "text/plain": [
       "[<matplotlib.lines.Line2D at 0x7fcd247abf70>]"
      ]
     },
     "execution_count": 364,
     "metadata": {},
     "output_type": "execute_result"
    },
    {
     "data": {
      "image/png": "[encoded data removed]",
      "text/plain": [
       "<Figure size 432x288 with 1 Axes>"
      ]
     },
     "metadata": {
      "needs_background": "light"
     },
     "output_type": "display_data"
    }
   ],
   "source": [
    "plt.xlabel('rank')\n",
    "plt.ylabel('like')\n",
    "plt.plot(x, like, 'o')"
   ]
  },
  {
   "cell_type": "markdown",
   "metadata": {},
   "source": [
    "通过排名-点赞数图，可以得出排名与点赞数在一定程度上为正相关。"
   ]
  },
  {
   "cell_type": "code",
   "execution_count": 365,
   "metadata": {},
   "outputs": [
    {
     "data": {
      "text/plain": [
       "{'whiskers': [<matplotlib.lines.Line2D at 0x7fcd11a073a0>,\n",
       "  <matplotlib.lines.Line2D at 0x7fcd11a07700>],\n",
       " 'caps': [<matplotlib.lines.Line2D at 0x7fcd11a07a60>,\n",
       "  <matplotlib.lines.Line2D at 0x7fcd11a07dc0>],\n",
       " 'boxes': [<matplotlib.lines.Line2D at 0x7fcd119f8fd0>],\n",
       " 'medians': [<matplotlib.lines.Line2D at 0x7fcd11a14160>],\n",
       " 'fliers': [<matplotlib.lines.Line2D at 0x7fcd11a147f0>],\n",
       " 'means': [<matplotlib.lines.Line2D at 0x7fcd11a144c0>]}"
      ]
     },
     "execution_count": 365,
     "metadata": {},
     "output_type": "execute_result"
    },
    {
     "data": {
      "image/png": "[encoded data removed]",
      "text/plain": [
       "<Figure size 432x288 with 1 Axes>"
      ]
     },
     "metadata": {
      "needs_background": "light"
     },
     "output_type": "display_data"
    }
   ],
   "source": [
    "plt.xlabel('like')\n",
    "labels = ['like']\n",
    "plt.ylabel('like')\n",
    "plt.boxplot(like, labels = labels, showmeans = True)"
   ]
  },
  {
   "cell_type": "markdown",
   "metadata": {},
   "source": [
    "由箱线图可知，点赞数据集中在[50000, 100000]内，中位数大致为60000,均值大致为80000"
   ]
  },
  {
   "cell_type": "code",
   "execution_count": 366,
   "metadata": {},
   "outputs": [
    {
     "data": {
      "text/plain": [
       "80874.31"
      ]
     },
     "execution_count": 366,
     "metadata": {},
     "output_type": "execute_result"
    }
   ],
   "source": [
    "np.mean(like)"
   ]
  },
  {
   "cell_type": "code",
   "execution_count": 367,
   "metadata": {},
   "outputs": [
    {
     "data": {
      "text/plain": [
       "60506.0"
      ]
     },
     "execution_count": 367,
     "metadata": {},
     "output_type": "execute_result"
    }
   ],
   "source": [
    "np.median(like)"
   ]
  },
  {
   "cell_type": "code",
   "execution_count": 368,
   "metadata": {},
   "outputs": [
    {
     "data": {
      "text/plain": [
       "3598569720.5339003"
      ]
     },
     "execution_count": 368,
     "metadata": {},
     "output_type": "execute_result"
    }
   ],
   "source": [
    "# 方差\n",
    "np.var(like)"
   ]
  },
  {
   "cell_type": "code",
   "execution_count": 369,
   "metadata": {},
   "outputs": [
    {
     "data": {
      "text/plain": [
       "59988.079820360144"
      ]
     },
     "execution_count": 369,
     "metadata": {},
     "output_type": "execute_result"
    }
   ],
   "source": [
    "# 标准差\n",
    "np.std(like)"
   ]
  },
  {
   "cell_type": "code",
   "execution_count": 370,
   "metadata": {},
   "outputs": [
    {
     "data": {
      "text/plain": [
       "[<matplotlib.lines.Line2D at 0x7fcd11a5daf0>]"
      ]
     },
     "execution_count": 370,
     "metadata": {},
     "output_type": "execute_result"
    },
    {
     "data": {
      "image/png": "[encoded data removed]",
      "text/plain": [
       "<Figure size 432x288 with 1 Axes>"
      ]
     },
     "metadata": {
      "needs_background": "light"
     },
     "output_type": "display_data"
    }
   ],
   "source": [
    "plt.xlabel('rank')\n",
    "plt.ylabel('danmu')\n",
    "plt.plot(x, danmu, 'o')"
   ]
  },
  {
   "cell_type": "markdown",
   "metadata": {},
   "source": [
    "通过排名-弹幕数图，可以得出排名与弹幕数相关性较低。"
   ]
  },
  {
   "cell_type": "code",
   "execution_count": 371,
   "metadata": {},
   "outputs": [
    {
     "data": {
      "text/plain": [
       "{'whiskers': [<matplotlib.lines.Line2D at 0x7fcd11a75e80>,\n",
       "  <matplotlib.lines.Line2D at 0x7fcd11a86220>],\n",
       " 'caps': [<matplotlib.lines.Line2D at 0x7fcd11a86460>,\n",
       "  <matplotlib.lines.Line2D at 0x7fcd11a86730>],\n",
       " 'boxes': [<matplotlib.lines.Line2D at 0x7fcd11a75b20>],\n",
       " 'medians': [<matplotlib.lines.Line2D at 0x7fcd11a86a60>],\n",
       " 'fliers': [<matplotlib.lines.Line2D at 0x7fcd11a92100>],\n",
       " 'means': [<matplotlib.lines.Line2D at 0x7fcd11a86d90>]}"
      ]
     },
     "execution_count": 371,
     "metadata": {},
     "output_type": "execute_result"
    },
    {
     "data": {
      "image/png": "[encoded data removed]",
      "text/plain": [
       "<Figure size 432x288 with 1 Axes>"
      ]
     },
     "metadata": {
      "needs_background": "light"
     },
     "output_type": "display_data"
    }
   ],
   "source": [
    "plt.xlabel('danmu')\n",
    "labels = ['danmu']\n",
    "plt.ylabel('danmu')\n",
    "plt.boxplot(danmu, labels = labels, showmeans = True)"
   ]
  },
  {
   "cell_type": "markdown",
   "metadata": {},
   "source": [
    "由箱线图可知，弹幕数据集中在[2500, 5000]内，中位数大致为2500，均值大致为5000"
   ]
  },
  {
   "cell_type": "code",
   "execution_count": 372,
   "metadata": {},
   "outputs": [
    {
     "data": {
      "text/plain": [
       "2724.0"
      ]
     },
     "execution_count": 372,
     "metadata": {},
     "output_type": "execute_result"
    }
   ],
   "source": [
    "np.median(danmu)"
   ]
  },
  {
   "cell_type": "code",
   "execution_count": 373,
   "metadata": {},
   "outputs": [
    {
     "data": {
      "text/plain": [
       "4772.05"
      ]
     },
     "execution_count": 373,
     "metadata": {},
     "output_type": "execute_result"
    }
   ],
   "source": [
    "np.mean(danmu)"
   ]
  },
  {
   "cell_type": "code",
   "execution_count": 374,
   "metadata": {},
   "outputs": [
    {
     "data": {
      "text/plain": [
       "36392009.48749998"
      ]
     },
     "execution_count": 374,
     "metadata": {},
     "output_type": "execute_result"
    }
   ],
   "source": [
    "# 方差\n",
    "np.var(danmu)"
   ]
  },
  {
   "cell_type": "code",
   "execution_count": 375,
   "metadata": {},
   "outputs": [
    {
     "data": {
      "text/plain": [
       "6032.579007978261"
      ]
     },
     "execution_count": 375,
     "metadata": {},
     "output_type": "execute_result"
    }
   ],
   "source": [
    "# 标准差\n",
    "np.std(danmu)"
   ]
  },
  {
   "cell_type": "code",
   "execution_count": 376,
   "metadata": {},
   "outputs": [
    {
     "data": {
      "text/plain": [
       "[<matplotlib.lines.Line2D at 0x7fccf12c2df0>]"
      ]
     },
     "execution_count": 376,
     "metadata": {},
     "output_type": "execute_result"
    },
    {
     "data": {
      "image/png": "[encoded data removed]",
      "text/plain": [
       "<Figure size 432x288 with 1 Axes>"
      ]
     },
     "metadata": {
      "needs_background": "light"
     },
     "output_type": "display_data"
    }
   ],
   "source": [
    "plt.xlabel('rank')\n",
    "plt.ylabel('share')\n",
    "plt.plot(x, share, 'o')"
   ]
  },
  {
   "cell_type": "markdown",
   "metadata": {},
   "source": [
    "通过排名-分享数图，可以得出排名与分享数相关性较低。"
   ]
  },
  {
   "cell_type": "code",
   "execution_count": 377,
   "metadata": {},
   "outputs": [
    {
     "data": {
      "text/plain": [
       "{'whiskers': [<matplotlib.lines.Line2D at 0x7fcd114f18b0>,\n",
       "  <matplotlib.lines.Line2D at 0x7fccf0a71070>],\n",
       " 'caps': [<matplotlib.lines.Line2D at 0x7fcd244757c0>,\n",
       "  <matplotlib.lines.Line2D at 0x7fcd2450a3a0>],\n",
       " 'boxes': [<matplotlib.lines.Line2D at 0x7fcd01bf1640>],\n",
       " 'medians': [<matplotlib.lines.Line2D at 0x7fcd2450af40>],\n",
       " 'fliers': [<matplotlib.lines.Line2D at 0x7fcd1170c3d0>],\n",
       " 'means': [<matplotlib.lines.Line2D at 0x7fcd116d99d0>]}"
      ]
     },
     "execution_count": 377,
     "metadata": {},
     "output_type": "execute_result"
    },
    {
     "data": {
      "image/png": "[encoded data removed]",
      "text/plain": [
       "<Figure size 432x288 with 1 Axes>"
      ]
     },
     "metadata": {
      "needs_background": "light"
     },
     "output_type": "display_data"
    }
   ],
   "source": [
    "plt.xlabel('share')\n",
    "labels = ['share']\n",
    "plt.ylabel('share')\n",
    "plt.boxplot(share, labels = labels, showmeans = True)"
   ]
  },
  {
   "cell_type": "markdown",
   "metadata": {},
   "source": [
    "由箱线图可知，分享数据集中在[1000, 6000]内，中位数大致为3000，均值大致为6000"
   ]
  },
  {
   "cell_type": "code",
   "execution_count": 378,
   "metadata": {},
   "outputs": [
    {
     "data": {
      "text/plain": [
       "3328.5"
      ]
     },
     "execution_count": 378,
     "metadata": {},
     "output_type": "execute_result"
    }
   ],
   "source": [
    "np.median(share)"
   ]
  },
  {
   "cell_type": "code",
   "execution_count": 379,
   "metadata": {},
   "outputs": [
    {
     "data": {
      "text/plain": [
       "6068.27"
      ]
     },
     "execution_count": 379,
     "metadata": {},
     "output_type": "execute_result"
    }
   ],
   "source": [
    "np.mean(share)"
   ]
  },
  {
   "cell_type": "code",
   "execution_count": 380,
   "metadata": {},
   "outputs": [
    {
     "data": {
      "text/plain": [
       "68479834.8771"
      ]
     },
     "execution_count": 380,
     "metadata": {},
     "output_type": "execute_result"
    }
   ],
   "source": [
    "# 方差\n",
    "np.var(share)"
   ]
  },
  {
   "cell_type": "code",
   "execution_count": 381,
   "metadata": {},
   "outputs": [
    {
     "data": {
      "text/plain": [
       "8275.254369329079"
      ]
     },
     "execution_count": 381,
     "metadata": {},
     "output_type": "execute_result"
    }
   ],
   "source": [
    "# 标准差\n",
    "np.std(share)"
   ]
  },
  {
   "cell_type": "code",
   "execution_count": 382,
   "metadata": {
    "id": "MFN2sGkq4oXS"
   },
   "outputs": [],
   "source": [
    "# 计算系数矩阵w-hat\n",
    "w_hat = np.dot(np.dot(np.linalg.inv(np.dot(X.T, X)), X.T), Y)\n",
    "# 获取b矩阵\n",
    "b = w_hat[-1]\n",
    "# 获取w系数矩阵\n",
    "w = w_hat[:-1]"
   ]
  },
  {
   "cell_type": "code",
   "execution_count": 383,
   "metadata": {
    "colab": {
     "base_uri": "https://localhost:8080/",
     "height": 0
    },
    "id": "LpMVbf795zRI",
    "outputId": "159d7e74-963c-4911-f790-9545b9cd62d0"
   },
   "outputs": [
    {
     "data": {
      "text/plain": [
       "array([[ 5.35882458e-01],\n",
       "       [ 2.01063732e+00],\n",
       "       [ 5.79443124e+00],\n",
       "       [-4.91889223e+00],\n",
       "       [ 1.75152391e+01],\n",
       "       [-3.73019387e+00],\n",
       "       [ 8.95374932e-01],\n",
       "       [ 3.98109914e+05]])"
      ]
     },
     "execution_count": 383,
     "metadata": {},
     "output_type": "execute_result"
    }
   ],
   "source": [
    "w_hat"
   ]
  },
  {
   "cell_type": "code",
   "execution_count": 384,
   "metadata": {
    "colab": {
     "base_uri": "https://localhost:8080/",
     "height": 0
    },
    "id": "gk-n-xIX51rd",
    "outputId": "cc7e7a62-cda2-4665-c246-aa7e8305fdfb"
   },
   "outputs": [
    {
     "data": {
      "text/plain": [
       "array([398109.91437092])"
      ]
     },
     "execution_count": 384,
     "metadata": {},
     "output_type": "execute_result"
    }
   ],
   "source": [
    "b"
   ]
  },
  {
   "cell_type": "code",
   "execution_count": 385,
   "metadata": {
    "colab": {
     "base_uri": "https://localhost:8080/",
     "height": 0
    },
    "id": "Wbcg4FZx53qA",
    "outputId": "a09bf2c8-9002-45b8-d120-cc479f37e6ae"
   },
   "outputs": [
    {
     "data": {
      "text/plain": [
       "array([[ 0.53588246],\n",
       "       [ 2.01063732],\n",
       "       [ 5.79443124],\n",
       "       [-4.91889223],\n",
       "       [17.51523907],\n",
       "       [-3.73019387],\n",
       "       [ 0.89537493]])"
      ]
     },
     "execution_count": 385,
     "metadata": {},
     "output_type": "execute_result"
    }
   ],
   "source": [
    "w"
   ]
  },
  {
   "cell_type": "markdown",
   "metadata": {
    "id": "Q5qsxHNL6GLj"
   },
   "source": [
    "这里发现w系数矩阵中出现了负值，经检查发现该项目对应的自变量为like和reply，即视频的点赞次数和评论数，这与实际情况是不符的，猜测是因为该自变量对结果的影响过小，导致预测出现了偏差，同时发现弹幕数量对视频评分的影响过大，远超于其他参数，显然与实际生活不符，并且作为对视频质量的估计，弹幕数也的确不能作为一个重要的参数。\n",
    "\n",
    "因此我们对弹幕数进行剔除重新进行拟合。"
   ]
  },
  {
   "cell_type": "code",
   "execution_count": 386,
   "metadata": {
    "id": "z1B0AHzjARNr"
   },
   "outputs": [],
   "source": [
    "data = pd.read_csv('./bilibili.csv', index_col='title')"
   ]
  },
  {
   "cell_type": "code",
   "execution_count": 387,
   "metadata": {
    "id": "g97zAppY7fxY"
   },
   "outputs": [],
   "source": [
    "# 获取自变量矩阵，剔除弹幕数\n",
    "X = data.iloc[:,[3, 4, 5, 6, 8, 9]].values\n",
    "# 获取因变量矩阵\n",
    "Y = data.iloc[:,2].values.reshape(-1,1)\n",
    "# 生成设计矩阵\n",
    "om = np.ones(X.shape[0]).reshape(-1,1)\n",
    "X = np.hstack((X, om))"
   ]
  },
  {
   "cell_type": "code",
   "execution_count": 388,
   "metadata": {
    "id": "tfKa7U8xAsVb"
   },
   "outputs": [],
   "source": [
    "# 计算系数矩阵w-hat\n",
    "w_hat = np.dot(np.dot(np.linalg.inv(np.dot(X.T, X)), X.T), Y)\n",
    "# 获取b矩阵\n",
    "b = w_hat[-1]\n",
    "# 获取w系数矩阵\n",
    "w = w_hat[:-1]"
   ]
  },
  {
   "cell_type": "code",
   "execution_count": 389,
   "metadata": {
    "colab": {
     "base_uri": "https://localhost:8080/",
     "height": 0
    },
    "id": "ivbMfPD0Atvv",
    "outputId": "5c938e68-9146-4a4b-b5b3-1152ac3a0dad"
   },
   "outputs": [
    {
     "data": {
      "text/plain": [
       "array([426773.33411122])"
      ]
     },
     "execution_count": 389,
     "metadata": {},
     "output_type": "execute_result"
    }
   ],
   "source": [
    "b"
   ]
  },
  {
   "cell_type": "code",
   "execution_count": 390,
   "metadata": {},
   "outputs": [
    {
     "data": {
      "text/plain": [
       "array([[ 0.60269881],\n",
       "       [ 2.82157809],\n",
       "       [ 5.35461617],\n",
       "       [ 3.04630747],\n",
       "       [-3.9125348 ],\n",
       "       [ 0.33063835]])"
      ]
     },
     "execution_count": 390,
     "metadata": {},
     "output_type": "execute_result"
    }
   ],
   "source": [
    "w"
   ]
  },
  {
   "cell_type": "markdown",
   "metadata": {
    "colab": {
     "base_uri": "https://localhost:8080/",
     "height": 0
    },
    "id": "EpIPOoXGAvNc",
    "outputId": "568e5e1c-c9cf-42a4-e0c8-31c89b709026"
   },
   "source": [
    "观察发现此时各项参数对于评分的影响已经较为接近正常水平。但是share，视频分享数对于评分的影响仍为负值，依然根据上述猜测，share对于总分的影响过小，导致拟合的结果差，因此再次剔除share字段。"
   ]
  },
  {
   "cell_type": "code",
   "execution_count": 391,
   "metadata": {},
   "outputs": [],
   "source": [
    "# 获取自变量矩阵，剔除弹幕数，分享数\n",
    "X = data.iloc[:,[3, 4, 5, 6, 9]].values\n",
    "# 获取因变量矩阵\n",
    "Y = data.iloc[:,2].values.reshape(-1,1)\n",
    "# 生成设计矩阵\n",
    "om = np.ones(X.shape[0]).reshape(-1,1)\n",
    "X = np.hstack((X, om))"
   ]
  },
  {
   "cell_type": "code",
   "execution_count": 392,
   "metadata": {},
   "outputs": [],
   "source": [
    "# 计算系数矩阵w-hat\n",
    "w_hat = np.dot(np.dot(np.linalg.inv(np.dot(X.T, X)), X.T), Y)\n",
    "# 获取b矩阵\n",
    "b = w_hat[-1]\n",
    "# 获取w系数矩阵\n",
    "w = w_hat[:-1]"
   ]
  },
  {
   "cell_type": "code",
   "execution_count": 393,
   "metadata": {
    "id": "h4eod0IAGQR2"
   },
   "outputs": [],
   "source": [
    "X_test = data.iloc[:, [3, 4, 5, 6, 9]].values\n",
    "Y_predict = np.dot(X_test, w) + b"
   ]
  },
  {
   "cell_type": "code",
   "execution_count": 394,
   "metadata": {
    "id": "NiQFS0ktHWgx"
   },
   "outputs": [],
   "source": [
    "dic = abs(Y-Y_predict)"
   ]
  },
  {
   "cell_type": "code",
   "execution_count": 395,
   "metadata": {
    "id": "x_lRAKrFGu2R"
   },
   "outputs": [],
   "source": [
    "sum = 0\n",
    "for i in range(len(Y)):\n",
    "  sum += abs(Y[i][0] - Y_predict[i][0])"
   ]
  },
  {
   "cell_type": "markdown",
   "metadata": {
    "id": "4Foiw_eFHQbA"
   },
   "source": [
    "误差的平均值"
   ]
  },
  {
   "cell_type": "code",
   "execution_count": 396,
   "metadata": {
    "colab": {
     "base_uri": "https://localhost:8080/",
     "height": 0
    },
    "id": "J2FhNDTLG3QR",
    "outputId": "ce8d9726-50e8-41b3-bfca-3113faea5867"
   },
   "outputs": [
    {
     "data": {
      "text/plain": [
       "181348.81788162683"
      ]
     },
     "execution_count": 396,
     "metadata": {},
     "output_type": "execute_result"
    }
   ],
   "source": [
    "sum/len(Y)"
   ]
  },
  {
   "cell_type": "code",
   "execution_count": 397,
   "metadata": {},
   "outputs": [],
   "source": [
    "#计算平均平方误差啊\n",
    "mse = 0\n",
    "for i in range(len(Y)):\n",
    "    mse += (Y[i][0] - Y_predict[i][0])**2\n",
    "mse /= len(Y)"
   ]
  },
  {
   "cell_type": "code",
   "execution_count": 398,
   "metadata": {},
   "outputs": [
    {
     "data": {
      "text/plain": [
       "53649810543.205574"
      ]
     },
     "execution_count": 398,
     "metadata": {},
     "output_type": "execute_result"
    }
   ],
   "source": [
    "mse"
   ]
  },
  {
   "cell_type": "code",
   "execution_count": 399,
   "metadata": {},
   "outputs": [
    {
     "data": {
      "text/plain": [
       "100"
      ]
     },
     "execution_count": 399,
     "metadata": {},
     "output_type": "execute_result"
    }
   ],
   "source": [
    "len(Y)"
   ]
  },
  {
   "cell_type": "code",
   "execution_count": 400,
   "metadata": {},
   "outputs": [],
   "source": [
    "# 计算平均平方误差平方根\n",
    "rmse = np.sqrt(mse)"
   ]
  },
  {
   "cell_type": "code",
   "execution_count": 401,
   "metadata": {},
   "outputs": [
    {
     "data": {
      "text/plain": [
       "231624.2874639997"
      ]
     },
     "execution_count": 401,
     "metadata": {},
     "output_type": "execute_result"
    }
   ],
   "source": [
    "rmse"
   ]
  },
  {
   "cell_type": "code",
   "execution_count": 402,
   "metadata": {},
   "outputs": [],
   "source": [
    "# 计算R^2决定系数\n",
    "# r^2 = 1 - rss/tss\n",
    "rss = 0\n",
    "for i in range(len(Y)):\n",
    "    rss += (Y[i][0] - Y_predict[i][0])**2"
   ]
  },
  {
   "cell_type": "code",
   "execution_count": 403,
   "metadata": {},
   "outputs": [
    {
     "data": {
      "text/plain": [
       "5364981054320.558"
      ]
     },
     "execution_count": 403,
     "metadata": {},
     "output_type": "execute_result"
    }
   ],
   "source": [
    "rss"
   ]
  },
  {
   "cell_type": "code",
   "execution_count": 404,
   "metadata": {},
   "outputs": [
    {
     "data": {
      "text/plain": [
       "5364981054320.558"
      ]
     },
     "execution_count": 404,
     "metadata": {},
     "output_type": "execute_result"
    }
   ],
   "source": [
    "mse*len(Y)"
   ]
  },
  {
   "cell_type": "code",
   "execution_count": 405,
   "metadata": {},
   "outputs": [],
   "source": [
    "# 计算tss\n",
    "tss = 0\n",
    "y_ = 0 # average y\n",
    "for i in range(len(Y)):\n",
    "    y_ += Y[i][0]\n",
    "y_ = y_ / len(Y)\n",
    "for i in range(len(Y)):\n",
    "    tss += (Y[i][0] - y_)**2\n",
    "R2 = 1 - rss/tss"
   ]
  },
  {
   "cell_type": "code",
   "execution_count": 406,
   "metadata": {},
   "outputs": [
    {
     "data": {
      "text/plain": [
       "0.7480378277028598"
      ]
     },
     "execution_count": 406,
     "metadata": {},
     "output_type": "execute_result"
    }
   ],
   "source": [
    "R2"
   ]
  },
  {
   "cell_type": "markdown",
   "metadata": {},
   "source": [
    "通过对R^2决定系数的计算，可以发现模型拟合的效果较为良好。"
   ]
  },
  {
   "cell_type": "markdown",
   "metadata": {
    "id": "UGKXzBl_JYQP"
   },
   "source": [
    "观察预测值与实际值的差距，发现拟合的趋势基本吻合，但仍有较大的误差"
   ]
  },
  {
   "cell_type": "code",
   "execution_count": 407,
   "metadata": {
    "colab": {
     "base_uri": "https://localhost:8080/",
     "height": 293
    },
    "id": "rQgl3TThHfoK",
    "outputId": "8fce0288-1c34-4e17-cc89-e90e8c39eb71"
   },
   "outputs": [
    {
     "data": {
      "text/plain": [
       "[<matplotlib.lines.Line2D at 0x7fcd116de580>]"
      ]
     },
     "execution_count": 407,
     "metadata": {},
     "output_type": "execute_result"
    },
    {
     "data": {
      "image/png": "[encoded data removed]",
      "text/plain": [
       "<Figure size 432x288 with 1 Axes>"
      ]
     },
     "metadata": {
      "needs_background": "light"
     },
     "output_type": "display_data"
    }
   ],
   "source": [
    "x = [i for i in range(0, len(Y))]\n",
    "plt.plot(x, Y_predict, 'o')\n",
    "plt.plot(x, Y)"
   ]
  },
  {
   "cell_type": "code",
   "execution_count": 408,
   "metadata": {},
   "outputs": [
    {
     "data": {
      "text/plain": [
       "[<matplotlib.lines.Line2D at 0x7fcd11aa37f0>]"
      ]
     },
     "execution_count": 408,
     "metadata": {},
     "output_type": "execute_result"
    },
    {
     "data": {
      "image/png": "[encoded data removed]",
      "text/plain": [
       "<Figure size 432x288 with 1 Axes>"
      ]
     },
     "metadata": {
      "needs_background": "light"
     },
     "output_type": "display_data"
    }
   ],
   "source": [
    "plt.plot(x, Y_predict, 'o')\n",
    "plt.plot(x, Y, 'o')"
   ]
  },
  {
   "cell_type": "markdown",
   "metadata": {},
   "source": [
    "从图象中可以看出，预测值的趋势与实际值较为接近。"
   ]
  },
  {
   "cell_type": "code",
   "execution_count": 409,
   "metadata": {
    "colab": {
     "base_uri": "https://localhost:8080/",
     "height": 282
    },
    "id": "MRK9KP79Ili3",
    "outputId": "a572ad9e-bc21-4a52-811f-6e1c1680fad7"
   },
   "outputs": [
    {
     "data": {
      "text/plain": [
       "[<matplotlib.lines.Line2D at 0x7fccf12e8cd0>]"
      ]
     },
     "execution_count": 409,
     "metadata": {},
     "output_type": "execute_result"
    },
    {
     "data": {
      "image/png": "[encoded data removed]",
      "text/plain": [
       "<Figure size 432x288 with 1 Axes>"
      ]
     },
     "metadata": {
      "needs_background": "light"
     },
     "output_type": "display_data"
    }
   ],
   "source": [
    "y = [sum/len(Y) for i in range(len(x))]\n",
    "plt.plot(x, dic, 'o')\n",
    "plt.plot(x, y)"
   ]
  },
  {
   "cell_type": "markdown",
   "metadata": {},
   "source": [
    "分析得出，该线性模型的拟合误差较为集中，集中在[0, 181348.81788162683]即平均误差之间。"
   ]
  },
  {
   "cell_type": "markdown",
   "metadata": {
    "id": "DAir1zraKjC8"
   },
   "source": [
    "根据权重分析各个数据对总分的影响，可以发现，收藏对于视频总评分的影响占比最高，其次是硬币数，播放数，说明哔哩哔哩对与视频的质量高低评判有一定的综合考量，播放量属于可以由视频制作人通过其他方式刷取，但是收藏量是由用户对于视频质量的高低做出的决定，因而更具代表性，更有说服力。反观实际观看体验中，有些视频制作人会以视频收藏满几万后，更新新一期视频，因为该项对视频的收益影响最大，更能给视频制作人带来实际收益。"
   ]
  },
  {
   "cell_type": "code",
   "execution_count": 410,
   "metadata": {
    "colab": {
     "base_uri": "https://localhost:8080/",
     "height": 0
    },
    "id": "pvMz4BEAKhkN",
    "outputId": "9ef87302-50cd-4761-8261-fabee5c1b138"
   },
   "outputs": [
    {
     "data": {
      "text/plain": [
       "array([[0.59149795],\n",
       "       [2.85961313],\n",
       "       [4.47955342],\n",
       "       [0.34492927],\n",
       "       [0.35243338]])"
      ]
     },
     "execution_count": 410,
     "metadata": {},
     "output_type": "execute_result"
    }
   ],
   "source": [
    "w"
   ]
  },
  {
   "cell_type": "markdown",
   "metadata": {
    "id": "Yv9O3qQELbEh"
   },
   "source": [
    "本次线性回归的拟合可以较为准确的判断出各各数据对于视频评分的影响，但是对于视频评分的预测误差较大，但是仍能较准确的判断出视频评分所影响的视频排名，认为有如下原因：\n",
    "- 数据量过少，导致拟合程度不足\n",
    "- 评分规则非线形模型，应该更换模型\n",
    "- 还有其他未考虑的因素\n",
    "\n",
    "如果要更准确的对视频评分进行预测，应该综合分析数据的特性，或者采用机器学习等更优秀的手段来进行求解和预测，线性回归仍有一定的局限性。"
   ]
  }
 ],
 "metadata": {
  "colab": {
   "collapsed_sections": [],
   "name": "Untitled2.ipynb",
   "provenance": []
  },
  "kernelspec": {
   "display_name": "Python 3",
   "language": "python",
   "name": "python3"
  },
  "language_info": {
   "codemirror_mode": {
    "name": "ipython",
    "version": 3
   },
   "file_extension": ".py",
   "mimetype": "text/x-python",
   "name": "python",
   "nbconvert_exporter": "python",
   "pygments_lexer": "ipython3",
   "version": "3.8.5"
  }
 },
 "nbformat": 4,
 "nbformat_minor": 4
}
